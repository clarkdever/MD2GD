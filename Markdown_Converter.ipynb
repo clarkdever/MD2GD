{
  "nbformat": 4,
  "nbformat_minor": 0,
  "metadata": {
    "colab": {
      "provenance": [],
      "authorship_tag": "ABX9TyMiuobehinog6xl3wRYIEYz",
      "include_colab_link": true
    },
    "kernelspec": {
      "name": "python3",
      "display_name": "Python 3"
    },
    "language_info": {
      "name": "python"
    },
    "widgets": {
      "application/vnd.jupyter.widget-state+json": {
        "3ff27bb235c140589721b922443ec441": {
          "model_module": "@jupyter-widgets/controls",
          "model_name": "TextModel",
          "model_module_version": "1.5.0",
          "state": {
            "_dom_classes": [],
            "_model_module": "@jupyter-widgets/controls",
            "_model_module_version": "1.5.0",
            "_model_name": "TextModel",
            "_view_count": null,
            "_view_module": "@jupyter-widgets/controls",
            "_view_module_version": "1.5.0",
            "_view_name": "TextView",
            "continuous_update": true,
            "description": "File Name:",
            "description_tooltip": null,
            "disabled": false,
            "layout": "IPY_MODEL_8dd9ca65ade8415caa5ba700edc579b2",
            "placeholder": "Enter file name without extension",
            "style": "IPY_MODEL_05d102692e654d4bb3fb25f0308e0d56",
            "value": "Test File Name"
          }
        },
        "8dd9ca65ade8415caa5ba700edc579b2": {
          "model_module": "@jupyter-widgets/base",
          "model_name": "LayoutModel",
          "model_module_version": "1.2.0",
          "state": {
            "_model_module": "@jupyter-widgets/base",
            "_model_module_version": "1.2.0",
            "_model_name": "LayoutModel",
            "_view_count": null,
            "_view_module": "@jupyter-widgets/base",
            "_view_module_version": "1.2.0",
            "_view_name": "LayoutView",
            "align_content": null,
            "align_items": null,
            "align_self": null,
            "border": null,
            "bottom": null,
            "display": null,
            "flex": null,
            "flex_flow": null,
            "grid_area": null,
            "grid_auto_columns": null,
            "grid_auto_flow": null,
            "grid_auto_rows": null,
            "grid_column": null,
            "grid_gap": null,
            "grid_row": null,
            "grid_template_areas": null,
            "grid_template_columns": null,
            "grid_template_rows": null,
            "height": null,
            "justify_content": null,
            "justify_items": null,
            "left": null,
            "margin": null,
            "max_height": null,
            "max_width": null,
            "min_height": null,
            "min_width": null,
            "object_fit": null,
            "object_position": null,
            "order": null,
            "overflow": null,
            "overflow_x": null,
            "overflow_y": null,
            "padding": null,
            "right": null,
            "top": null,
            "visibility": null,
            "width": null
          }
        },
        "05d102692e654d4bb3fb25f0308e0d56": {
          "model_module": "@jupyter-widgets/controls",
          "model_name": "DescriptionStyleModel",
          "model_module_version": "1.5.0",
          "state": {
            "_model_module": "@jupyter-widgets/controls",
            "_model_module_version": "1.5.0",
            "_model_name": "DescriptionStyleModel",
            "_view_count": null,
            "_view_module": "@jupyter-widgets/base",
            "_view_module_version": "1.2.0",
            "_view_name": "StyleView",
            "description_width": ""
          }
        },
        "e58df37e59cf469b9816ed94316d4deb": {
          "model_module": "@jupyter-widgets/controls",
          "model_name": "TextareaModel",
          "model_module_version": "1.5.0",
          "state": {
            "_dom_classes": [],
            "_model_module": "@jupyter-widgets/controls",
            "_model_module_version": "1.5.0",
            "_model_name": "TextareaModel",
            "_view_count": null,
            "_view_module": "@jupyter-widgets/controls",
            "_view_module_version": "1.5.0",
            "_view_name": "TextareaView",
            "continuous_update": true,
            "description": "Markdown:",
            "description_tooltip": null,
            "disabled": false,
            "layout": "IPY_MODEL_790cee241e2440d5b31ddadd95e494cf",
            "placeholder": "Type or paste your Markdown content here...",
            "rows": null,
            "style": "IPY_MODEL_09634c4cc2984bd584286800d78b1335",
            "value": "Does this work?"
          }
        },
        "790cee241e2440d5b31ddadd95e494cf": {
          "model_module": "@jupyter-widgets/base",
          "model_name": "LayoutModel",
          "model_module_version": "1.2.0",
          "state": {
            "_model_module": "@jupyter-widgets/base",
            "_model_module_version": "1.2.0",
            "_model_name": "LayoutModel",
            "_view_count": null,
            "_view_module": "@jupyter-widgets/base",
            "_view_module_version": "1.2.0",
            "_view_name": "LayoutView",
            "align_content": null,
            "align_items": null,
            "align_self": null,
            "border": null,
            "bottom": null,
            "display": null,
            "flex": null,
            "flex_flow": null,
            "grid_area": null,
            "grid_auto_columns": null,
            "grid_auto_flow": null,
            "grid_auto_rows": null,
            "grid_column": null,
            "grid_gap": null,
            "grid_row": null,
            "grid_template_areas": null,
            "grid_template_columns": null,
            "grid_template_rows": null,
            "height": "200px",
            "justify_content": null,
            "justify_items": null,
            "left": null,
            "margin": null,
            "max_height": null,
            "max_width": null,
            "min_height": null,
            "min_width": null,
            "object_fit": null,
            "object_position": null,
            "order": null,
            "overflow": null,
            "overflow_x": null,
            "overflow_y": null,
            "padding": null,
            "right": null,
            "top": null,
            "visibility": null,
            "width": "100%"
          }
        },
        "09634c4cc2984bd584286800d78b1335": {
          "model_module": "@jupyter-widgets/controls",
          "model_name": "DescriptionStyleModel",
          "model_module_version": "1.5.0",
          "state": {
            "_model_module": "@jupyter-widgets/controls",
            "_model_module_version": "1.5.0",
            "_model_name": "DescriptionStyleModel",
            "_view_count": null,
            "_view_module": "@jupyter-widgets/base",
            "_view_module_version": "1.2.0",
            "_view_name": "StyleView",
            "description_width": ""
          }
        },
        "9939c98f19ed41ecbb90a4181db0d58d": {
          "model_module": "@jupyter-widgets/controls",
          "model_name": "ButtonModel",
          "model_module_version": "1.5.0",
          "state": {
            "_dom_classes": [],
            "_model_module": "@jupyter-widgets/controls",
            "_model_module_version": "1.5.0",
            "_model_name": "ButtonModel",
            "_view_count": null,
            "_view_module": "@jupyter-widgets/controls",
            "_view_module_version": "1.5.0",
            "_view_name": "ButtonView",
            "button_style": "",
            "description": "Submit",
            "disabled": false,
            "icon": "",
            "layout": "IPY_MODEL_7e08a7cdd40041fe8b09892bb9980229",
            "style": "IPY_MODEL_658165f76d5244688c0e928b57ed1f83",
            "tooltip": ""
          }
        },
        "7e08a7cdd40041fe8b09892bb9980229": {
          "model_module": "@jupyter-widgets/base",
          "model_name": "LayoutModel",
          "model_module_version": "1.2.0",
          "state": {
            "_model_module": "@jupyter-widgets/base",
            "_model_module_version": "1.2.0",
            "_model_name": "LayoutModel",
            "_view_count": null,
            "_view_module": "@jupyter-widgets/base",
            "_view_module_version": "1.2.0",
            "_view_name": "LayoutView",
            "align_content": null,
            "align_items": null,
            "align_self": null,
            "border": null,
            "bottom": null,
            "display": null,
            "flex": null,
            "flex_flow": null,
            "grid_area": null,
            "grid_auto_columns": null,
            "grid_auto_flow": null,
            "grid_auto_rows": null,
            "grid_column": null,
            "grid_gap": null,
            "grid_row": null,
            "grid_template_areas": null,
            "grid_template_columns": null,
            "grid_template_rows": null,
            "height": null,
            "justify_content": null,
            "justify_items": null,
            "left": null,
            "margin": null,
            "max_height": null,
            "max_width": null,
            "min_height": null,
            "min_width": null,
            "object_fit": null,
            "object_position": null,
            "order": null,
            "overflow": null,
            "overflow_x": null,
            "overflow_y": null,
            "padding": null,
            "right": null,
            "top": null,
            "visibility": null,
            "width": null
          }
        },
        "658165f76d5244688c0e928b57ed1f83": {
          "model_module": "@jupyter-widgets/controls",
          "model_name": "ButtonStyleModel",
          "model_module_version": "1.5.0",
          "state": {
            "_model_module": "@jupyter-widgets/controls",
            "_model_module_version": "1.5.0",
            "_model_name": "ButtonStyleModel",
            "_view_count": null,
            "_view_module": "@jupyter-widgets/base",
            "_view_module_version": "1.2.0",
            "_view_name": "StyleView",
            "button_color": null,
            "font_weight": ""
          }
        },
        "40b09bcb2dc642379de74c0cfa005d95": {
          "model_module": "@jupyter-widgets/controls",
          "model_name": "LabelModel",
          "model_module_version": "1.5.0",
          "state": {
            "_dom_classes": [],
            "_model_module": "@jupyter-widgets/controls",
            "_model_module_version": "1.5.0",
            "_model_name": "LabelModel",
            "_view_count": null,
            "_view_module": "@jupyter-widgets/controls",
            "_view_module_version": "1.5.0",
            "_view_name": "LabelView",
            "description": "",
            "description_tooltip": null,
            "layout": "IPY_MODEL_d3354144afdc4462aa45167a6d25b576",
            "placeholder": "​",
            "style": "IPY_MODEL_688663a99e9c4f10970dd4eebf63bf6a",
            "value": "Processing..."
          }
        },
        "d3354144afdc4462aa45167a6d25b576": {
          "model_module": "@jupyter-widgets/base",
          "model_name": "LayoutModel",
          "model_module_version": "1.2.0",
          "state": {
            "_model_module": "@jupyter-widgets/base",
            "_model_module_version": "1.2.0",
            "_model_name": "LayoutModel",
            "_view_count": null,
            "_view_module": "@jupyter-widgets/base",
            "_view_module_version": "1.2.0",
            "_view_name": "LayoutView",
            "align_content": null,
            "align_items": null,
            "align_self": null,
            "border": null,
            "bottom": null,
            "display": null,
            "flex": null,
            "flex_flow": null,
            "grid_area": null,
            "grid_auto_columns": null,
            "grid_auto_flow": null,
            "grid_auto_rows": null,
            "grid_column": null,
            "grid_gap": null,
            "grid_row": null,
            "grid_template_areas": null,
            "grid_template_columns": null,
            "grid_template_rows": null,
            "height": null,
            "justify_content": null,
            "justify_items": null,
            "left": null,
            "margin": null,
            "max_height": null,
            "max_width": null,
            "min_height": null,
            "min_width": null,
            "object_fit": null,
            "object_position": null,
            "order": null,
            "overflow": null,
            "overflow_x": null,
            "overflow_y": null,
            "padding": null,
            "right": null,
            "top": null,
            "visibility": null,
            "width": null
          }
        },
        "688663a99e9c4f10970dd4eebf63bf6a": {
          "model_module": "@jupyter-widgets/controls",
          "model_name": "DescriptionStyleModel",
          "model_module_version": "1.5.0",
          "state": {
            "_model_module": "@jupyter-widgets/controls",
            "_model_module_version": "1.5.0",
            "_model_name": "DescriptionStyleModel",
            "_view_count": null,
            "_view_module": "@jupyter-widgets/base",
            "_view_module_version": "1.2.0",
            "_view_name": "StyleView",
            "description_width": ""
          }
        }
      }
    }
  },
  "cells": [
    {
      "cell_type": "markdown",
      "metadata": {
        "id": "view-in-github",
        "colab_type": "text"
      },
      "source": [
        "<a href=\"https://colab.research.google.com/github/clarkdever/MD2GD/blob/main/Markdown_Converter.ipynb\" target=\"_parent\"><img src=\"https://colab.research.google.com/assets/colab-badge.svg\" alt=\"Open In Colab\"/></a>"
      ]
    },
    {
      "cell_type": "code",
      "source": [
        "!apt-get install pandoc\n",
        "!pip install pypandoc"
      ],
      "metadata": {
        "id": "TQG_J0I6TUmf",
        "colab": {
          "base_uri": "https://localhost:8080/"
        },
        "outputId": "109acfad-fde8-45ca-a16b-20bea3f6e78f"
      },
      "execution_count": 1,
      "outputs": [
        {
          "output_type": "stream",
          "name": "stdout",
          "text": [
            "Reading package lists... Done\n",
            "Building dependency tree... Done\n",
            "Reading state information... Done\n",
            "pandoc is already the newest version (2.9.2.1-3ubuntu2).\n",
            "pandoc set to manually installed.\n",
            "0 upgraded, 0 newly installed, 0 to remove and 15 not upgraded.\n",
            "Collecting pypandoc\n",
            "  Downloading pypandoc-1.12-py3-none-any.whl (20 kB)\n",
            "Installing collected packages: pypandoc\n",
            "Successfully installed pypandoc-1.12\n"
          ]
        }
      ]
    },
    {
      "cell_type": "code",
      "execution_count": 4,
      "metadata": {
        "id": "eXXV5E6kOqL7",
        "colab": {
          "base_uri": "https://localhost:8080/",
          "height": 371,
          "referenced_widgets": [
            "3ff27bb235c140589721b922443ec441",
            "8dd9ca65ade8415caa5ba700edc579b2",
            "05d102692e654d4bb3fb25f0308e0d56",
            "e58df37e59cf469b9816ed94316d4deb",
            "790cee241e2440d5b31ddadd95e494cf",
            "09634c4cc2984bd584286800d78b1335",
            "9939c98f19ed41ecbb90a4181db0d58d",
            "7e08a7cdd40041fe8b09892bb9980229",
            "658165f76d5244688c0e928b57ed1f83",
            "40b09bcb2dc642379de74c0cfa005d95",
            "d3354144afdc4462aa45167a6d25b576",
            "688663a99e9c4f10970dd4eebf63bf6a"
          ]
        },
        "outputId": "d5121ac0-92fc-4f0c-f1b2-28ffc2440f25"
      },
      "outputs": [
        {
          "output_type": "stream",
          "name": "stdout",
          "text": [
            "Drive already mounted at /content/drive; to attempt to forcibly remount, call drive.mount(\"/content/drive\", force_remount=True).\n"
          ]
        },
        {
          "output_type": "display_data",
          "data": {
            "text/plain": [
              "Text(value='', description='File Name:', placeholder='Enter file name without extension')"
            ],
            "application/vnd.jupyter.widget-view+json": {
              "version_major": 2,
              "version_minor": 0,
              "model_id": "3ff27bb235c140589721b922443ec441"
            }
          },
          "metadata": {}
        },
        {
          "output_type": "display_data",
          "data": {
            "text/plain": [
              "Textarea(value='', description='Markdown:', layout=Layout(height='200px', width='100%'), placeholder='Type or …"
            ],
            "application/vnd.jupyter.widget-view+json": {
              "version_major": 2,
              "version_minor": 0,
              "model_id": "e58df37e59cf469b9816ed94316d4deb"
            }
          },
          "metadata": {}
        },
        {
          "output_type": "display_data",
          "data": {
            "text/plain": [
              "Button(description='Submit', style=ButtonStyle())"
            ],
            "application/vnd.jupyter.widget-view+json": {
              "version_major": 2,
              "version_minor": 0,
              "model_id": "9939c98f19ed41ecbb90a4181db0d58d"
            }
          },
          "metadata": {}
        },
        {
          "output_type": "display_data",
          "data": {
            "text/plain": [
              "Label(value='')"
            ],
            "application/vnd.jupyter.widget-view+json": {
              "version_major": 2,
              "version_minor": 0,
              "model_id": "40b09bcb2dc642379de74c0cfa005d95"
            }
          },
          "metadata": {}
        },
        {
          "output_type": "stream",
          "name": "stdout",
          "text": [
            "File saved successfully: /content/drive/My Drive/ChatGPT/Test File Name.odt\n"
          ]
        }
      ],
      "source": [
        "import pypandoc\n",
        "from google.colab import drive\n",
        "import ipywidgets as widgets\n",
        "from IPython.display import display, clear_output\n",
        "from google.colab import output\n",
        "import os\n",
        "import re\n",
        "\n",
        "# Mount Google Drive\n",
        "drive.mount('/content/drive')\n",
        "\n",
        "# Function to validate file name\n",
        "def is_valid_filename(filename):\n",
        "    return True #bool(re.match(\"^[a-zA-Z0-9_\\- ]+$\", filename))\n",
        "\n",
        "# Function to get markdown content and filename from user and convert to ODT\n",
        "def get_markdown_and_convert():\n",
        "    # Widgets for input\n",
        "    file_name_input = widgets.Text(\n",
        "        value='',\n",
        "        placeholder='Enter file name without extension',\n",
        "        description='File Name:',\n",
        "        disabled=False\n",
        "    )\n",
        "\n",
        "    markdown_input = widgets.Textarea(\n",
        "        value='',\n",
        "        placeholder='Type or paste your Markdown content here...',\n",
        "        description='Markdown:',\n",
        "        disabled=False,\n",
        "        layout=widgets.Layout(width='100%', height='200px')\n",
        "    )\n",
        "\n",
        "    submit_button = widgets.Button(description=\"Submit\")\n",
        "    message_label = widgets.Label()  # For displaying messages\n",
        "\n",
        "    # Display widgets\n",
        "    display(file_name_input, markdown_input, submit_button, message_label)\n",
        "\n",
        "\n",
        "    # Function to handle button click\n",
        "    def on_button_clicked(b):\n",
        "        message_label.value = 'Processing...'  # Loading indicator\n",
        "\n",
        "        # Getting input values\n",
        "        file_name = file_name_input.value.strip()\n",
        "        markdown_content = markdown_input.value.strip()\n",
        "\n",
        "        # Basic file name validation\n",
        "        if not is_valid_filename(file_name):\n",
        "            message_label.value = 'Error: Invalid file name. Use only letters, numbers, underscores, and hyphens.'\n",
        "            return\n",
        "\n",
        "        # Convert markdown to ODT and save to Google Drive\n",
        "        try:\n",
        "            # Ensure the directory exists\n",
        "            os.makedirs(f'/content/drive/My Drive/ChatGPT/', exist_ok=True)\n",
        "\n",
        "            # Convert and save\n",
        "            output_path = f\"/content/drive/My Drive/ChatGPT/{file_name}.odt\"\n",
        "            pypandoc.convert_text(markdown_content, 'odt', format='markdown', outputfile=output_path)\n",
        "            print(f\"File saved successfully: {output_path}\")\n",
        "\n",
        "        except Exception as e:\n",
        "            print(f\"An error occurred: {e}\")\n",
        "\n",
        "\n",
        "        # Clear the output to hide input fields\n",
        "        clear_output(wait=True)\n",
        "\n",
        "    submit_button.on_click(on_button_clicked)\n",
        "\n",
        "# Call the function to launch inputs\n",
        "get_markdown_and_convert()\n"
      ]
    }
  ]
}