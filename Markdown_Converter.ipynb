{
  "nbformat": 4,
  "nbformat_minor": 0,
  "metadata": {
    "colab": {
      "provenance": [],
      "authorship_tag": "ABX9TyM7IPBPaTETurNzigzqdXqZ",
      "include_colab_link": true
    },
    "kernelspec": {
      "name": "python3",
      "display_name": "Python 3"
    },
    "language_info": {
      "name": "python"
    },
    "widgets": {
      "application/vnd.jupyter.widget-state+json": {
        "31d51c542b3e4f13908a6db7c150052d": {
          "model_module": "@jupyter-widgets/controls",
          "model_name": "TextModel",
          "model_module_version": "1.5.0",
          "state": {
            "_dom_classes": [],
            "_model_module": "@jupyter-widgets/controls",
            "_model_module_version": "1.5.0",
            "_model_name": "TextModel",
            "_view_count": null,
            "_view_module": "@jupyter-widgets/controls",
            "_view_module_version": "1.5.0",
            "_view_name": "TextView",
            "continuous_update": true,
            "description": "File Name:",
            "description_tooltip": null,
            "disabled": false,
            "layout": "IPY_MODEL_48264458ef9e4d97acd9fd4a91be9841",
            "placeholder": "Enter file name without extension",
            "style": "IPY_MODEL_7a9110fa40a145f2beacce613748ae88",
            "value": "Test"
          }
        },
        "48264458ef9e4d97acd9fd4a91be9841": {
          "model_module": "@jupyter-widgets/base",
          "model_name": "LayoutModel",
          "model_module_version": "1.2.0",
          "state": {
            "_model_module": "@jupyter-widgets/base",
            "_model_module_version": "1.2.0",
            "_model_name": "LayoutModel",
            "_view_count": null,
            "_view_module": "@jupyter-widgets/base",
            "_view_module_version": "1.2.0",
            "_view_name": "LayoutView",
            "align_content": null,
            "align_items": null,
            "align_self": null,
            "border": null,
            "bottom": null,
            "display": null,
            "flex": null,
            "flex_flow": null,
            "grid_area": null,
            "grid_auto_columns": null,
            "grid_auto_flow": null,
            "grid_auto_rows": null,
            "grid_column": null,
            "grid_gap": null,
            "grid_row": null,
            "grid_template_areas": null,
            "grid_template_columns": null,
            "grid_template_rows": null,
            "height": null,
            "justify_content": null,
            "justify_items": null,
            "left": null,
            "margin": null,
            "max_height": null,
            "max_width": null,
            "min_height": null,
            "min_width": null,
            "object_fit": null,
            "object_position": null,
            "order": null,
            "overflow": null,
            "overflow_x": null,
            "overflow_y": null,
            "padding": null,
            "right": null,
            "top": null,
            "visibility": null,
            "width": null
          }
        },
        "7a9110fa40a145f2beacce613748ae88": {
          "model_module": "@jupyter-widgets/controls",
          "model_name": "DescriptionStyleModel",
          "model_module_version": "1.5.0",
          "state": {
            "_model_module": "@jupyter-widgets/controls",
            "_model_module_version": "1.5.0",
            "_model_name": "DescriptionStyleModel",
            "_view_count": null,
            "_view_module": "@jupyter-widgets/base",
            "_view_module_version": "1.2.0",
            "_view_name": "StyleView",
            "description_width": ""
          }
        },
        "8a649bc5dc95495d8eee98ed32c7a2b2": {
          "model_module": "@jupyter-widgets/controls",
          "model_name": "TextareaModel",
          "model_module_version": "1.5.0",
          "state": {
            "_dom_classes": [],
            "_model_module": "@jupyter-widgets/controls",
            "_model_module_version": "1.5.0",
            "_model_name": "TextareaModel",
            "_view_count": null,
            "_view_module": "@jupyter-widgets/controls",
            "_view_module_version": "1.5.0",
            "_view_name": "TextareaView",
            "continuous_update": true,
            "description": "Markdown:",
            "description_tooltip": null,
            "disabled": false,
            "layout": "IPY_MODEL_87c97792943b4b938212d8f8fee7f0c0",
            "placeholder": "Type or paste your Markdown content here...",
            "rows": null,
            "style": "IPY_MODEL_d9f1675c0af04c758221afc6321dec3f",
            "value": "Test"
          }
        },
        "87c97792943b4b938212d8f8fee7f0c0": {
          "model_module": "@jupyter-widgets/base",
          "model_name": "LayoutModel",
          "model_module_version": "1.2.0",
          "state": {
            "_model_module": "@jupyter-widgets/base",
            "_model_module_version": "1.2.0",
            "_model_name": "LayoutModel",
            "_view_count": null,
            "_view_module": "@jupyter-widgets/base",
            "_view_module_version": "1.2.0",
            "_view_name": "LayoutView",
            "align_content": null,
            "align_items": null,
            "align_self": null,
            "border": null,
            "bottom": null,
            "display": null,
            "flex": null,
            "flex_flow": null,
            "grid_area": null,
            "grid_auto_columns": null,
            "grid_auto_flow": null,
            "grid_auto_rows": null,
            "grid_column": null,
            "grid_gap": null,
            "grid_row": null,
            "grid_template_areas": null,
            "grid_template_columns": null,
            "grid_template_rows": null,
            "height": "200px",
            "justify_content": null,
            "justify_items": null,
            "left": null,
            "margin": null,
            "max_height": null,
            "max_width": null,
            "min_height": null,
            "min_width": null,
            "object_fit": null,
            "object_position": null,
            "order": null,
            "overflow": null,
            "overflow_x": null,
            "overflow_y": null,
            "padding": null,
            "right": null,
            "top": null,
            "visibility": null,
            "width": "100%"
          }
        },
        "d9f1675c0af04c758221afc6321dec3f": {
          "model_module": "@jupyter-widgets/controls",
          "model_name": "DescriptionStyleModel",
          "model_module_version": "1.5.0",
          "state": {
            "_model_module": "@jupyter-widgets/controls",
            "_model_module_version": "1.5.0",
            "_model_name": "DescriptionStyleModel",
            "_view_count": null,
            "_view_module": "@jupyter-widgets/base",
            "_view_module_version": "1.2.0",
            "_view_name": "StyleView",
            "description_width": ""
          }
        },
        "1fa134692a0f46048e5f64d6bd6990ad": {
          "model_module": "@jupyter-widgets/controls",
          "model_name": "ButtonModel",
          "model_module_version": "1.5.0",
          "state": {
            "_dom_classes": [],
            "_model_module": "@jupyter-widgets/controls",
            "_model_module_version": "1.5.0",
            "_model_name": "ButtonModel",
            "_view_count": null,
            "_view_module": "@jupyter-widgets/controls",
            "_view_module_version": "1.5.0",
            "_view_name": "ButtonView",
            "button_style": "",
            "description": "Submit",
            "disabled": false,
            "icon": "",
            "layout": "IPY_MODEL_f6d19fef4dca4fc3b13ca0e9e2917c7f",
            "style": "IPY_MODEL_15c5e5e4b8744b27921a1253b059c66d",
            "tooltip": ""
          }
        },
        "f6d19fef4dca4fc3b13ca0e9e2917c7f": {
          "model_module": "@jupyter-widgets/base",
          "model_name": "LayoutModel",
          "model_module_version": "1.2.0",
          "state": {
            "_model_module": "@jupyter-widgets/base",
            "_model_module_version": "1.2.0",
            "_model_name": "LayoutModel",
            "_view_count": null,
            "_view_module": "@jupyter-widgets/base",
            "_view_module_version": "1.2.0",
            "_view_name": "LayoutView",
            "align_content": null,
            "align_items": null,
            "align_self": null,
            "border": null,
            "bottom": null,
            "display": null,
            "flex": null,
            "flex_flow": null,
            "grid_area": null,
            "grid_auto_columns": null,
            "grid_auto_flow": null,
            "grid_auto_rows": null,
            "grid_column": null,
            "grid_gap": null,
            "grid_row": null,
            "grid_template_areas": null,
            "grid_template_columns": null,
            "grid_template_rows": null,
            "height": null,
            "justify_content": null,
            "justify_items": null,
            "left": null,
            "margin": null,
            "max_height": null,
            "max_width": null,
            "min_height": null,
            "min_width": null,
            "object_fit": null,
            "object_position": null,
            "order": null,
            "overflow": null,
            "overflow_x": null,
            "overflow_y": null,
            "padding": null,
            "right": null,
            "top": null,
            "visibility": null,
            "width": null
          }
        },
        "15c5e5e4b8744b27921a1253b059c66d": {
          "model_module": "@jupyter-widgets/controls",
          "model_name": "ButtonStyleModel",
          "model_module_version": "1.5.0",
          "state": {
            "_model_module": "@jupyter-widgets/controls",
            "_model_module_version": "1.5.0",
            "_model_name": "ButtonStyleModel",
            "_view_count": null,
            "_view_module": "@jupyter-widgets/base",
            "_view_module_version": "1.2.0",
            "_view_name": "StyleView",
            "button_color": null,
            "font_weight": ""
          }
        },
        "8ac2318d89424ed1a1c4561496f8047a": {
          "model_module": "@jupyter-widgets/controls",
          "model_name": "LabelModel",
          "model_module_version": "1.5.0",
          "state": {
            "_dom_classes": [],
            "_model_module": "@jupyter-widgets/controls",
            "_model_module_version": "1.5.0",
            "_model_name": "LabelModel",
            "_view_count": null,
            "_view_module": "@jupyter-widgets/controls",
            "_view_module_version": "1.5.0",
            "_view_name": "LabelView",
            "description": "",
            "description_tooltip": null,
            "layout": "IPY_MODEL_1188d3303d0145c185de04199dc71eaf",
            "placeholder": "​",
            "style": "IPY_MODEL_92873120be2342a5ae7d127e05123d1b",
            "value": ""
          }
        },
        "1188d3303d0145c185de04199dc71eaf": {
          "model_module": "@jupyter-widgets/base",
          "model_name": "LayoutModel",
          "model_module_version": "1.2.0",
          "state": {
            "_model_module": "@jupyter-widgets/base",
            "_model_module_version": "1.2.0",
            "_model_name": "LayoutModel",
            "_view_count": null,
            "_view_module": "@jupyter-widgets/base",
            "_view_module_version": "1.2.0",
            "_view_name": "LayoutView",
            "align_content": null,
            "align_items": null,
            "align_self": null,
            "border": null,
            "bottom": null,
            "display": null,
            "flex": null,
            "flex_flow": null,
            "grid_area": null,
            "grid_auto_columns": null,
            "grid_auto_flow": null,
            "grid_auto_rows": null,
            "grid_column": null,
            "grid_gap": null,
            "grid_row": null,
            "grid_template_areas": null,
            "grid_template_columns": null,
            "grid_template_rows": null,
            "height": null,
            "justify_content": null,
            "justify_items": null,
            "left": null,
            "margin": null,
            "max_height": null,
            "max_width": null,
            "min_height": null,
            "min_width": null,
            "object_fit": null,
            "object_position": null,
            "order": null,
            "overflow": null,
            "overflow_x": null,
            "overflow_y": null,
            "padding": null,
            "right": null,
            "top": null,
            "visibility": null,
            "width": null
          }
        },
        "92873120be2342a5ae7d127e05123d1b": {
          "model_module": "@jupyter-widgets/controls",
          "model_name": "DescriptionStyleModel",
          "model_module_version": "1.5.0",
          "state": {
            "_model_module": "@jupyter-widgets/controls",
            "_model_module_version": "1.5.0",
            "_model_name": "DescriptionStyleModel",
            "_view_count": null,
            "_view_module": "@jupyter-widgets/base",
            "_view_module_version": "1.2.0",
            "_view_name": "StyleView",
            "description_width": ""
          }
        }
      }
    }
  },
  "cells": [
    {
      "cell_type": "markdown",
      "metadata": {
        "id": "view-in-github",
        "colab_type": "text"
      },
      "source": [
        "<a href=\"https://colab.research.google.com/github/clarkdever/MD2GD/blob/main/Markdown_Converter.ipynb\" target=\"_parent\"><img src=\"https://colab.research.google.com/assets/colab-badge.svg\" alt=\"Open In Colab\"/></a>"
      ]
    },
    {
      "cell_type": "markdown",
      "source": [
        "### Notebook Description and Usage Instructions\n",
        "\n",
        "Google Drive does a horrible job of handling Markdown content from ChatGPT. This notebook is designed to convert ChatGPT Markdown content into an OpenDocument Text (ODT) file and save it to your Google Drive so you can edit it without losing all your formatting.\n",
        "\n",
        "#### How to Use the Notebook:\n",
        "1. **Install Dependencies**:\n",
        "   - Run the first code block titled \"Install the Dependencies\". This step installs Pandoc and pypandoc, which are essential for the Markdown to ODT conversion process.\n",
        "\n",
        "2. **Enter File Details**:\n",
        "   - In the form field block titled \"Enter file details\", input the desired file name in the `file_name_input` field. Remember not to include the file extension; just enter the name.\n",
        "   - In the `markdown_input` field, type or paste the Markdown content that you want to convert.\n",
        "\n",
        "3. **Convert and Save**:\n",
        "   - Execute the third code block titled \"Run this to process the input and save your Markdown to Google drive\".\n",
        "\n",
        "4. **Access Your File**:\n",
        "   - Navigate to the ChatGPT folder in your Google Drive to access the newly created ODT file.\n",
        "\n",
        "#### Additional Notes:\n",
        "- Make sure to mount your Google Drive when prompted to ensure the notebook can save the ODT file correctly.\n",
        "- File names should contain only letters, numbers, spaces, underscores, or hyphens.\n",
        "- If an error occurs, read the error message for guidance on resolving the issue.\n"
      ],
      "metadata": {
        "id": "6vZBmzM8vrA4"
      }
    },
    {
      "cell_type": "code",
      "source": [
        "# @title Install the dependencies\n",
        "!apt-get install pandoc\n",
        "!pip install pypandoc"
      ],
      "metadata": {
        "id": "TQG_J0I6TUmf",
        "outputId": "25b26565-de81-402c-f3e4-d60f43fe0473",
        "colab": {
          "base_uri": "https://localhost:8080/"
        }
      },
      "execution_count": 17,
      "outputs": [
        {
          "output_type": "stream",
          "name": "stdout",
          "text": [
            "Reading package lists... Done\n",
            "Building dependency tree... Done\n",
            "Reading state information... Done\n",
            "pandoc is already the newest version (2.9.2.1-3ubuntu2).\n",
            "0 upgraded, 0 newly installed, 0 to remove and 15 not upgraded.\n",
            "Requirement already satisfied: pypandoc in /usr/local/lib/python3.10/dist-packages (1.12)\n"
          ]
        }
      ]
    },
    {
      "cell_type": "code",
      "execution_count": 24,
      "metadata": {
        "id": "eXXV5E6kOqL7",
        "outputId": "230bb24f-9907-4efc-f994-0bc035a85edd",
        "colab": {
          "base_uri": "https://localhost:8080/",
          "height": 343,
          "referenced_widgets": [
            "31d51c542b3e4f13908a6db7c150052d",
            "48264458ef9e4d97acd9fd4a91be9841",
            "7a9110fa40a145f2beacce613748ae88",
            "8a649bc5dc95495d8eee98ed32c7a2b2",
            "87c97792943b4b938212d8f8fee7f0c0",
            "d9f1675c0af04c758221afc6321dec3f",
            "1fa134692a0f46048e5f64d6bd6990ad",
            "f6d19fef4dca4fc3b13ca0e9e2917c7f",
            "15c5e5e4b8744b27921a1253b059c66d",
            "8ac2318d89424ed1a1c4561496f8047a",
            "1188d3303d0145c185de04199dc71eaf",
            "92873120be2342a5ae7d127e05123d1b"
          ]
        }
      },
      "outputs": [
        {
          "output_type": "display_data",
          "data": {
            "text/plain": [
              "Text(value='', description='File Name:', placeholder='Enter file name without extension')"
            ],
            "application/vnd.jupyter.widget-view+json": {
              "version_major": 2,
              "version_minor": 0,
              "model_id": "31d51c542b3e4f13908a6db7c150052d"
            }
          },
          "metadata": {}
        },
        {
          "output_type": "display_data",
          "data": {
            "text/plain": [
              "Textarea(value='', description='Markdown:', layout=Layout(height='200px', width='100%'), placeholder='Type or …"
            ],
            "application/vnd.jupyter.widget-view+json": {
              "version_major": 2,
              "version_minor": 0,
              "model_id": "8a649bc5dc95495d8eee98ed32c7a2b2"
            }
          },
          "metadata": {}
        },
        {
          "output_type": "display_data",
          "data": {
            "text/plain": [
              "Button(description='Submit', style=ButtonStyle())"
            ],
            "application/vnd.jupyter.widget-view+json": {
              "version_major": 2,
              "version_minor": 0,
              "model_id": "1fa134692a0f46048e5f64d6bd6990ad"
            }
          },
          "metadata": {}
        },
        {
          "output_type": "display_data",
          "data": {
            "text/plain": [
              "Label(value='')"
            ],
            "application/vnd.jupyter.widget-view+json": {
              "version_major": 2,
              "version_minor": 0,
              "model_id": "8ac2318d89424ed1a1c4561496f8047a"
            }
          },
          "metadata": {}
        },
        {
          "output_type": "stream",
          "name": "stdout",
          "text": [
            "Mounted at /content/drive\n",
            "File saved successfully: /content/drive/My Drive/ChatGPT/Test.odt\n"
          ]
        }
      ],
      "source": [
        "import pypandoc\n",
        "from google.colab import drive\n",
        "import ipywidgets as widgets\n",
        "from IPython.display import display\n",
        "import os\n",
        "import re\n",
        "\n",
        "# Function to validate file name\n",
        "def is_valid_filename(filename):\n",
        "    return bool(re.match(\"^[a-zA-Z0-9_\\- ]+$\", filename))\n",
        "\n",
        "# Function to get markdown content and filename from user and convert to ODT\n",
        "def get_markdown_and_convert():\n",
        "    # Widgets for input\n",
        "    file_name_input = widgets.Text(\n",
        "        value='',\n",
        "        placeholder='Enter file name without extension',\n",
        "        description='File Name:',\n",
        "        disabled=False\n",
        "    )\n",
        "\n",
        "    markdown_input = widgets.Textarea(\n",
        "        value='',\n",
        "        placeholder='Type or paste your Markdown content here...',\n",
        "        description='Markdown:',\n",
        "        disabled=False,\n",
        "        layout=widgets.Layout(width='100%', height='200px')\n",
        "    )\n",
        "\n",
        "    submit_button = widgets.Button(description=\"Submit\")\n",
        "    message_label = widgets.Label()  # For displaying messages\n",
        "\n",
        "    # Function to handle button click\n",
        "    def on_submit_button_clicked(b):\n",
        "        # Get the values from the widgets\n",
        "        file_name = file_name_input.value\n",
        "        markdown_content = markdown_input.value\n",
        "\n",
        "        # Mount Google Drive\n",
        "        drive.mount('/content/drive', force_remount=True)\n",
        "\n",
        "        # Basic file name validation\n",
        "        if not is_valid_filename(file_name):\n",
        "            print('Error: Invalid file name. Use only letters, numbers, spaces, underscores, and hyphens.')\n",
        "        else:\n",
        "            try:\n",
        "                # Ensure the directory exists\n",
        "                os.makedirs('/content/drive/My Drive/ChatGPT/', exist_ok=True)\n",
        "\n",
        "                # Convert markdown to ODT and save to Google Drive\n",
        "                output_path = f\"/content/drive/My Drive/ChatGPT/{file_name}.odt\"\n",
        "                pypandoc.convert_text(markdown_content, 'odt', format='markdown', outputfile=output_path)\n",
        "                print(f\"File saved successfully: {output_path}\")\n",
        "\n",
        "            except Exception as e:\n",
        "                print(f\"An error occurred: {e}\")\n",
        "\n",
        "\n",
        "    # Attach the event handler to the submit button\n",
        "    submit_button.on_click(on_submit_button_clicked)\n",
        "\n",
        "    # Display widgets\n",
        "    display(file_name_input, markdown_input, submit_button, message_label)\n",
        "\n",
        "# Call the function to display the widgets\n",
        "get_markdown_and_convert()\n"
      ]
    }
  ]
}