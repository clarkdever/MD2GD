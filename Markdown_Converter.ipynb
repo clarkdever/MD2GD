{
  "nbformat": 4,
  "nbformat_minor": 0,
  "metadata": {
    "colab": {
      "provenance": [],
      "authorship_tag": "ABX9TyNRGcG/klsr3RafvrDkIHkU",
      "include_colab_link": true
    },
    "kernelspec": {
      "name": "python3",
      "display_name": "Python 3"
    },
    "language_info": {
      "name": "python"
    }
  },
  "cells": [
    {
      "cell_type": "markdown",
      "metadata": {
        "id": "view-in-github",
        "colab_type": "text"
      },
      "source": [
        "<a href=\"https://colab.research.google.com/github/clarkdever/MD2GD/blob/main/Markdown_Converter.ipynb\" target=\"_parent\"><img src=\"https://colab.research.google.com/assets/colab-badge.svg\" alt=\"Open In Colab\"/></a>"
      ]
    },
    {
      "cell_type": "markdown",
      "source": [
        "### Notebook Description and Usage Instructions\n",
        "\n",
        "Google Drive does a horrible job of handling Markdown content from ChatGPT. This notebook is designed to convert ChatGPT Markdown content into an OpenDocument Text (ODT) file and save it to your Google Drive so you can edit it without losing all your formatting.\n",
        "\n",
        "#### How to Use the Notebook:\n",
        "1. **Install Dependencies**:\n",
        "   - Run the first code block titled \"Install the Dependencies\". This step installs Pandoc and pypandoc, which are essential for the Markdown to ODT conversion process.\n",
        "\n",
        "2. **Enter File Details**:\n",
        "   - In the `File Name:` field. Remember don't include the file extension; just enter the name.\n",
        "   - In the `Markdown:` field, type or paste the Markdown content that you want to convert.\n",
        "\n",
        "3. **Convert and Save**:\n",
        "   - Press the Submit Button.\n",
        "\n",
        "4. **Access Your File**:\n",
        "   - Navigate to the ChatGPT folder in your Google Drive to access the newly created ODT file.\n",
        "\n",
        "#### Additional Notes:\n",
        "- Make sure to mount your Google Drive when prompted to ensure the notebook can save the ODT file correctly.\n",
        "- File names should contain only letters, numbers, spaces, underscores, or hyphens.\n",
        "- If an error occurs, read the error message for guidance on resolving the issue.\n"
      ],
      "metadata": {
        "id": "6vZBmzM8vrA4"
      }
    },
    {
      "cell_type": "code",
      "source": [
        "# @title Install the dependencies\n",
        "!apt-get install pandoc\n",
        "!pip install pypandoc"
      ],
      "metadata": {
        "id": "TQG_J0I6TUmf",
        "cellView": "form"
      },
      "execution_count": 26,
      "outputs": []
    },
    {
      "cell_type": "code",
      "execution_count": null,
      "metadata": {
        "id": "eXXV5E6kOqL7",
        "cellView": "form"
      },
      "outputs": [],
      "source": [
        "# @title Enter file details\n",
        "import pypandoc\n",
        "from google.colab import drive\n",
        "import ipywidgets as widgets\n",
        "from IPython.display import display\n",
        "import os\n",
        "import re\n",
        "\n",
        "# Function to validate file name\n",
        "def is_valid_filename(filename):\n",
        "    return bool(re.match(\"^[a-zA-Z0-9_\\- ]+$\", filename))\n",
        "\n",
        "# Function to get markdown content and filename from user and convert to ODT\n",
        "def get_markdown_and_convert():\n",
        "    # Widgets for input\n",
        "    file_name_input = widgets.Text(\n",
        "        value='',\n",
        "        placeholder='Enter file name without extension',\n",
        "        description='File Name:',\n",
        "        disabled=False\n",
        "    )\n",
        "\n",
        "    markdown_input = widgets.Textarea(\n",
        "        value='',\n",
        "        placeholder='Type or paste your Markdown content here...',\n",
        "        description='Markdown:',\n",
        "        disabled=False,\n",
        "        layout=widgets.Layout(width='70%', height='200px')\n",
        "    )\n",
        "\n",
        "    message_label = widgets.Label(\n",
        "        value='',\n",
        "    )  # For displaying messages\n",
        "\n",
        "    submit_button = widgets.Button(description=\"Submit\")\n",
        "\n",
        "\n",
        "    # Function to handle button click\n",
        "    def on_submit_button_clicked(b):\n",
        "        # Get the values from the widgets\n",
        "        file_name = file_name_input.value\n",
        "        markdown_content = markdown_input.value\n",
        "\n",
        "        # Mount Google Drive\n",
        "        drive.mount('/content/drive', force_remount=True)\n",
        "\n",
        "        # Basic file name validation\n",
        "        if not is_valid_filename(file_name):\n",
        "            message_label.value = 'Error: Invalid file name. Use only letters, numbers, spaces, underscores, and hyphens.'\n",
        "        else:\n",
        "            try:\n",
        "                # Ensure the directory exists\n",
        "                os.makedirs('/content/drive/My Drive/ChatGPT/', exist_ok=True)\n",
        "\n",
        "                # Convert markdown to ODT and save to Google Drive\n",
        "                output_path = f\"/content/drive/My Drive/ChatGPT/{file_name}.odt\"\n",
        "                pypandoc.convert_text(markdown_content, 'odt', format='markdown', outputfile=output_path)\n",
        "                print_path = output_path.replace(\"/content/drive/\", \"\", 1)\n",
        "                message_label.value = f\"File saved successfully to Google Drive: {print_path}\"\n",
        "\n",
        "            except Exception as e:\n",
        "                message_label.value = f\"An error occurred: {e}\"\n",
        "\n",
        "\n",
        "    # Attach the event handler to the submit button\n",
        "    submit_button.on_click(on_submit_button_clicked)\n",
        "\n",
        "    # Display widgets\n",
        "    display(file_name_input, markdown_input, message_label, submit_button)\n",
        "\n",
        "# Call the function to display the widgets\n",
        "get_markdown_and_convert()\n"
      ]
    },
    {
      "cell_type": "code",
      "source": [],
      "metadata": {
        "id": "zk7hdvwxI6Ft"
      },
      "execution_count": null,
      "outputs": []
    }
  ]
}