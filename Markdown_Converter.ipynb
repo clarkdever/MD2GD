{
  "nbformat": 4,
  "nbformat_minor": 0,
  "metadata": {
    "colab": {
      "provenance": [],
      "authorship_tag": "ABX9TyPw9B4dR5L/ulF7fvUuB0W2",
      "include_colab_link": true
    },
    "kernelspec": {
      "name": "python3",
      "display_name": "Python 3"
    },
    "language_info": {
      "name": "python"
    }
  },
  "cells": [
    {
      "cell_type": "markdown",
      "metadata": {
        "id": "view-in-github",
        "colab_type": "text"
      },
      "source": [
        "<a href=\"https://colab.research.google.com/github/clarkdever/MD2GD/blob/main/Markdown_Converter.ipynb\" target=\"_parent\"><img src=\"https://colab.research.google.com/assets/colab-badge.svg\" alt=\"Open In Colab\"/></a>"
      ]
    },
    {
      "cell_type": "markdown",
      "source": [
        "### Notebook Description and Usage Instructions\n",
        "\n",
        "Google Drive does a horrible job of handling Markdown content from ChatGPT. This notebook is designed to convert ChatGPT Markdown content into an OpenDocument Text (ODT) file and save it to your Google Drive so you can edit it without losing all your formatting.\n",
        "\n",
        "#### How to Use the Notebook:\n",
        "1. **Install Dependencies**:\n",
        "   - Run the first code block titled \"Install the Dependencies\". This step installs Pandoc and pypandoc, which are essential for the Markdown to ODT conversion process.\n",
        "\n",
        "2. **Enter File Details**:\n",
        "   - In the form field block titled \"Enter file details\", input the desired file name in the `file_name_input` field. Remember not to include the file extension; just enter the name.\n",
        "   - In the `markdown_input` field, type or paste the Markdown content that you want to convert.\n",
        "\n",
        "3. **Convert and Save**:\n",
        "   - Execute the third code block titled \"Run this to process the input and save your Markdown to Google drive\".\n",
        "\n",
        "4. **Access Your File**:\n",
        "   - Navigate to the ChatGPT folder in your Google Drive to access the newly created ODT file.\n",
        "\n",
        "#### Additional Notes:\n",
        "- Make sure to mount your Google Drive when prompted to ensure the notebook can save the ODT file correctly.\n",
        "- File names should contain only letters, numbers, spaces, underscores, or hyphens.\n",
        "- If an error occurs, read the error message for guidance on resolving the issue.\n"
      ],
      "metadata": {
        "id": "6vZBmzM8vrA4"
      }
    },
    {
      "cell_type": "code",
      "source": [
        "# @title Install the dependencies\n",
        "!apt-get install pandoc\n",
        "!pip install pypandoc"
      ],
      "metadata": {
        "id": "TQG_J0I6TUmf",
        "cellView": "form"
      },
      "execution_count": null,
      "outputs": []
    },
    {
      "cell_type": "code",
      "source": [
        "#@title Enter file details { display-mode: \"form\" }\n",
        "file_name_input = 'Insert your file name' #@param {type:\"string\"}\n",
        "markdown_input = \"Paste or type your Markdown here\" #@param {type:\"string\"}\n"
      ],
      "metadata": {
        "id": "sLeoA94TtDti"
      },
      "execution_count": 7,
      "outputs": []
    },
    {
      "cell_type": "code",
      "execution_count": null,
      "metadata": {
        "id": "eXXV5E6kOqL7",
        "cellView": "form"
      },
      "outputs": [],
      "source": [
        "# @title Run this to process the input and save your Markdown to Google drive\n",
        "import pypandoc\n",
        "from google.colab import drive\n",
        "import os\n",
        "import re\n",
        "\n",
        "# Function to validate file name\n",
        "def is_valid_filename(filename):\n",
        "    return bool(re.match(\"^[a-zA-Z0-9_\\- ]+$\", filename))\n",
        "\n",
        "# Mount Google Drive\n",
        "drive.mount('/content/drive', force_remount=True)\n",
        "\n",
        "# Basic file name validation\n",
        "if not is_valid_filename(file_name_input):\n",
        "    print('Error: Invalid file name. Use only letters, numbers, spaces, underscores, and hyphens.')\n",
        "else:\n",
        "    try:\n",
        "        # Ensure the directory exists\n",
        "        os.makedirs('/content/drive/My Drive/ChatGPT/', exist_ok=True)\n",
        "\n",
        "        # Convert markdown to ODT and save to Google Drive\n",
        "        output_path = f\"/content/drive/My Drive/ChatGPT/{file_name_input}.odt\"\n",
        "        pypandoc.convert_text(markdown_input, 'odt', format='markdown', outputfile=output_path)\n",
        "        print(f\"File saved successfully: {output_path}\")\n",
        "\n",
        "    except Exception as e:\n",
        "        print(f\"An error occurred: {e}\")\n"
      ]
    }
  ]
}